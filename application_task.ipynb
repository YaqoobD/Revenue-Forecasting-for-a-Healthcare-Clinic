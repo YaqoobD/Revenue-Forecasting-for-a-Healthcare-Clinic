{
 "cells": [
  {
   "attachments": {},
   "cell_type": "markdown",
   "metadata": {},
   "source": [
    "### Problem Statement\n",
    "The objective of this task is to estimate the expected revenue and the number of unique patients that will be acquired by the end of 2023, taking into account the launch of two new clinics in March 2023 and July 2023, respectively. Additionally, the revenue and patient acquisition for the two existing clinics in 2023 should be considered as part of the analysis."
   ]
  },
  {
   "attachments": {},
   "cell_type": "markdown",
   "metadata": {},
   "source": [
    "### Importing Required Libraries\n",
    "\n",
    "The given code imports the necessary libraries required for data analysis and visualization. The libraries are:\n",
    "\n",
    "* pandas: for data manipulation and analysis.\n",
    "* matplotlib: for creating visualizations in Python.\n",
    "* numpy: for mathematical operations.\n",
    "* scipy: for scientific and technical computing.\n",
    "* calendar: for working with calendars.\n"
   ]
  },
  {
   "cell_type": "code",
   "execution_count": 155,
   "metadata": {},
   "outputs": [],
   "source": [
    "import pandas as pd\n",
    "import matplotlib.pylab as plt\n",
    "import numpy as np \n",
    "from scipy.stats import mode\n",
    "import calendar\n",
    "import seaborn as sns\n",
    "import matplotlib.pyplot as plt\n",
    "\n",
    "from sklearn.linear_model import LinearRegression\n",
    "from sklearn.metrics import mean_absolute_error\n",
    "\n",
    "import statsmodels.api as sm\n"
   ]
  },
  {
   "cell_type": "code",
   "execution_count": 109,
   "metadata": {},
   "outputs": [
    {
     "name": "stdout",
     "output_type": "stream",
     "text": [
      "Requirement already satisfied: statsmodels in c:\\users\\yaqoobdavid\\anaconda3\\envs\\colt-analysis\\lib\\site-packages (0.13.5)\n",
      "Requirement already satisfied: scipy>=1.3 in c:\\users\\yaqoobdavid\\anaconda3\\envs\\colt-analysis\\lib\\site-packages (from statsmodels) (1.10.1)\n",
      "Requirement already satisfied: pandas>=0.25 in c:\\users\\yaqoobdavid\\anaconda3\\envs\\colt-analysis\\lib\\site-packages (from statsmodels) (1.5.3)\n",
      "Requirement already satisfied: packaging>=21.3 in c:\\users\\yaqoobdavid\\appdata\\roaming\\python\\python310\\site-packages (from statsmodels) (23.0)\n",
      "Requirement already satisfied: numpy>=1.22.3 in c:\\users\\yaqoobdavid\\anaconda3\\envs\\colt-analysis\\lib\\site-packages (from statsmodels) (1.24.2)\n",
      "Requirement already satisfied: patsy>=0.5.2 in c:\\users\\yaqoobdavid\\anaconda3\\envs\\colt-analysis\\lib\\site-packages (from statsmodels) (0.5.3)\n",
      "Requirement already satisfied: pytz>=2020.1 in c:\\users\\yaqoobdavid\\anaconda3\\envs\\colt-analysis\\lib\\site-packages (from pandas>=0.25->statsmodels) (2022.7.1)\n",
      "Requirement already satisfied: python-dateutil>=2.8.1 in c:\\users\\yaqoobdavid\\appdata\\roaming\\python\\python310\\site-packages (from pandas>=0.25->statsmodels) (2.8.2)\n",
      "Requirement already satisfied: six in c:\\users\\yaqoobdavid\\appdata\\roaming\\python\\python310\\site-packages (from patsy>=0.5.2->statsmodels) (1.16.0)\n"
     ]
    }
   ],
   "source": [
    "# Installs the statsmodels package using pip.\n",
    "!pip install statsmodels"
   ]
  },
  {
   "cell_type": "code",
   "execution_count": 110,
   "metadata": {},
   "outputs": [],
   "source": [
    "# #\n",
    "# TRAIN_SIZE = .8\n",
    "# EVAL_SIZE = 1 - TRAIN_SIZE\n",
    "\n",
    "# # Read in the CSV files as dataframes\n",
    "# df_patients= pd.read_csv(\"p21_bi_intern_test_appointments.csv\")\n",
    "# df_patients_count = len(df_patients)\n",
    "\n",
    "# df_patients = df_patients[:df_patients_count * TRAIN_SIZE]\n",
    "# df_patients_eval = df_patients[df_patients_count * EVAL_SIZE:]\n",
    "\n",
    "# df_revenue = pd.read_csv(\"p21_bi_intern_test_revenues.csv\")\n",
    "# df_revenue_count = len(df_patients)\n",
    "\n",
    "# df_revenue = df_revenue[:df_revenue_count * TRAIN_SIZE]\n",
    "# df_revenue_eval = df_revenue[df_revenue_count * EVAL_SIZE:]\n",
    "\n",
    "# print(\n",
    "#     f\"\"\"\n",
    "#         Train: {len(df_revenue)} , Eval: {len(df_revenue_eval)}\n",
    "#     \"\"\"\n",
    "# )\n",
    "\n",
    "df_patients= pd.read_csv(\"p21_bi_intern_test_appointments.csv\")\n",
    "df_revenue = pd.read_csv(\"p21_bi_intern_test_revenues.csv\")\n",
    "\n",
    "\n"
   ]
  },
  {
   "attachments": {},
   "cell_type": "markdown",
   "metadata": {},
   "source": [
    "### Data Information \n",
    "The output of the df_patients.head() function call is a preview of the DataFrame showing the first five rows of data. This is useful to get an idea of what the data looks like and to check if it was loaded correctly. In this case, the output shows the appointment ID, practitioner ID, patient ID, clinic ID, and appointment date for the first five appointments in the DataFrame.\n",
    "\n",
    "* appointment_id: a unique identifier for each appointment\n",
    "* practitioner_id: a unique identifier for the practitioner who conducted the appointment\n",
    "* patient_id: a unique identifier for the patient who had the appointment\n",
    "* clinic_id: a unique identifier for the clinic where the appointment was held\n",
    "* appointment_date: the date when the appointment was scheduled"
   ]
  },
  {
   "cell_type": "code",
   "execution_count": 111,
   "metadata": {},
   "outputs": [
    {
     "data": {
      "text/html": [
       "<div>\n",
       "<style scoped>\n",
       "    .dataframe tbody tr th:only-of-type {\n",
       "        vertical-align: middle;\n",
       "    }\n",
       "\n",
       "    .dataframe tbody tr th {\n",
       "        vertical-align: top;\n",
       "    }\n",
       "\n",
       "    .dataframe thead th {\n",
       "        text-align: right;\n",
       "    }\n",
       "</style>\n",
       "<table border=\"1\" class=\"dataframe\">\n",
       "  <thead>\n",
       "    <tr style=\"text-align: right;\">\n",
       "      <th></th>\n",
       "      <th>appointment_id</th>\n",
       "      <th>practitioner_id</th>\n",
       "      <th>patient_id</th>\n",
       "      <th>clinic_id</th>\n",
       "      <th>appointment_date</th>\n",
       "    </tr>\n",
       "  </thead>\n",
       "  <tbody>\n",
       "    <tr>\n",
       "      <th>0</th>\n",
       "      <td>0004df0d-3df6-42be-9d68-b646a42a44bb</td>\n",
       "      <td>c7402157-ae44-45cc-b6a7-b348d5dbd417</td>\n",
       "      <td>158184</td>\n",
       "      <td>2</td>\n",
       "      <td>2022-12-22</td>\n",
       "    </tr>\n",
       "    <tr>\n",
       "      <th>1</th>\n",
       "      <td>000a978e-f134-47b3-ab9e-4f56084be38e</td>\n",
       "      <td>3ca4793d-065e-4112-b023-d1122a2a4b44</td>\n",
       "      <td>112887</td>\n",
       "      <td>2</td>\n",
       "      <td>2022-06-02</td>\n",
       "    </tr>\n",
       "    <tr>\n",
       "      <th>2</th>\n",
       "      <td>000c1615-0980-4933-9ad1-6f34bb5e188e</td>\n",
       "      <td>c7402157-ae44-45cc-b6a7-b348d5dbd417</td>\n",
       "      <td>141451</td>\n",
       "      <td>2</td>\n",
       "      <td>2022-10-18</td>\n",
       "    </tr>\n",
       "    <tr>\n",
       "      <th>3</th>\n",
       "      <td>000d8c91-e6a8-4404-bf8b-4951ed8ca1f2</td>\n",
       "      <td>2ea0ca2a-77fc-4447-b57c-62a6cb4d75a1</td>\n",
       "      <td>37516</td>\n",
       "      <td>1</td>\n",
       "      <td>2022-01-06</td>\n",
       "    </tr>\n",
       "    <tr>\n",
       "      <th>4</th>\n",
       "      <td>0015acc2-484c-491a-b455-0963835a31dd</td>\n",
       "      <td>ed1a5b13-3dc5-4212-b989-f59258b4410e</td>\n",
       "      <td>141833</td>\n",
       "      <td>2</td>\n",
       "      <td>2022-10-14</td>\n",
       "    </tr>\n",
       "  </tbody>\n",
       "</table>\n",
       "</div>"
      ],
      "text/plain": [
       "                         appointment_id                       practitioner_id  \\\n",
       "0  0004df0d-3df6-42be-9d68-b646a42a44bb  c7402157-ae44-45cc-b6a7-b348d5dbd417   \n",
       "1  000a978e-f134-47b3-ab9e-4f56084be38e  3ca4793d-065e-4112-b023-d1122a2a4b44   \n",
       "2  000c1615-0980-4933-9ad1-6f34bb5e188e  c7402157-ae44-45cc-b6a7-b348d5dbd417   \n",
       "3  000d8c91-e6a8-4404-bf8b-4951ed8ca1f2  2ea0ca2a-77fc-4447-b57c-62a6cb4d75a1   \n",
       "4  0015acc2-484c-491a-b455-0963835a31dd  ed1a5b13-3dc5-4212-b989-f59258b4410e   \n",
       "\n",
       "   patient_id  clinic_id appointment_date  \n",
       "0      158184          2       2022-12-22  \n",
       "1      112887          2       2022-06-02  \n",
       "2      141451          2       2022-10-18  \n",
       "3       37516          1       2022-01-06  \n",
       "4      141833          2       2022-10-14  "
      ]
     },
     "execution_count": 111,
     "metadata": {},
     "output_type": "execute_result"
    }
   ],
   "source": [
    "# This code displays the first few rows of the df_patients DataFrame to give a preview of its contents.\n",
    "df_patients.head()"
   ]
  },
  {
   "attachments": {},
   "cell_type": "markdown",
   "metadata": {},
   "source": [
    "The output of the df_revenue.head() function call is a preview of the DataFrame showing the first five rows of data. This is useful to get an idea of what the data looks like and to check if it was loaded correctly. In this case, the output shows the appointment ID and revenue generated for the first five appointments in the DataFrame. Note that the first row has a NaN value for revenue, which may indicate that the revenue for that appointment is missing or hasn't been recorded yet.\n",
    "\n",
    "* appointment_id: a unique identifier for each appointment, matching the appointment_id column in df_patients DataFrame\n",
    "* revenues: the revenue generated from each appointment, in USD."
   ]
  },
  {
   "cell_type": "code",
   "execution_count": 112,
   "metadata": {},
   "outputs": [
    {
     "data": {
      "text/html": [
       "<div>\n",
       "<style scoped>\n",
       "    .dataframe tbody tr th:only-of-type {\n",
       "        vertical-align: middle;\n",
       "    }\n",
       "\n",
       "    .dataframe tbody tr th {\n",
       "        vertical-align: top;\n",
       "    }\n",
       "\n",
       "    .dataframe thead th {\n",
       "        text-align: right;\n",
       "    }\n",
       "</style>\n",
       "<table border=\"1\" class=\"dataframe\">\n",
       "  <thead>\n",
       "    <tr style=\"text-align: right;\">\n",
       "      <th></th>\n",
       "      <th>appointment_id</th>\n",
       "      <th>revenues</th>\n",
       "    </tr>\n",
       "  </thead>\n",
       "  <tbody>\n",
       "    <tr>\n",
       "      <th>0</th>\n",
       "      <td>68339e8c-c708-4042-ba21-263838e0487b</td>\n",
       "      <td>NaN</td>\n",
       "    </tr>\n",
       "    <tr>\n",
       "      <th>1</th>\n",
       "      <td>270bd629-028b-45b2-86a1-af8de97a7fd0</td>\n",
       "      <td>54.17</td>\n",
       "    </tr>\n",
       "    <tr>\n",
       "      <th>2</th>\n",
       "      <td>85c0b7cf-6e50-4683-88c4-9d6ea30f6500</td>\n",
       "      <td>20.67</td>\n",
       "    </tr>\n",
       "    <tr>\n",
       "      <th>3</th>\n",
       "      <td>4333637e-b13a-41b8-a0b6-d43ce4c7c761</td>\n",
       "      <td>35.69</td>\n",
       "    </tr>\n",
       "    <tr>\n",
       "      <th>4</th>\n",
       "      <td>e526a6ac-eaf4-47bd-bead-1332fe3444e4</td>\n",
       "      <td>150.77</td>\n",
       "    </tr>\n",
       "  </tbody>\n",
       "</table>\n",
       "</div>"
      ],
      "text/plain": [
       "                         appointment_id  revenues\n",
       "0  68339e8c-c708-4042-ba21-263838e0487b       NaN\n",
       "1  270bd629-028b-45b2-86a1-af8de97a7fd0     54.17\n",
       "2  85c0b7cf-6e50-4683-88c4-9d6ea30f6500     20.67\n",
       "3  4333637e-b13a-41b8-a0b6-d43ce4c7c761     35.69\n",
       "4  e526a6ac-eaf4-47bd-bead-1332fe3444e4    150.77"
      ]
     },
     "execution_count": 112,
     "metadata": {},
     "output_type": "execute_result"
    }
   ],
   "source": [
    "# Displays a preview of the contents of the df_revenue DataFrame by showing the first few rows.\n",
    "df_revenue.head()"
   ]
  },
  {
   "cell_type": "code",
   "execution_count": 113,
   "metadata": {},
   "outputs": [
    {
     "data": {
      "text/plain": [
       "(11015, 5)"
      ]
     },
     "execution_count": 113,
     "metadata": {},
     "output_type": "execute_result"
    }
   ],
   "source": [
    "# The dimensions of the df_patients DataFrame\n",
    "df_patients.shape"
   ]
  },
  {
   "cell_type": "code",
   "execution_count": 114,
   "metadata": {},
   "outputs": [
    {
     "data": {
      "text/plain": [
       "(11015, 2)"
      ]
     },
     "execution_count": 114,
     "metadata": {},
     "output_type": "execute_result"
    }
   ],
   "source": [
    "# The dimensions of the df_revenue DataFrame\n",
    "df_revenue.shape"
   ]
  },
  {
   "attachments": {},
   "cell_type": "markdown",
   "metadata": {},
   "source": [
    "###  Data Checks to perform\n",
    "\n",
    "- Check Revenue Distribution\n",
    "- Check Null values\n",
    "- Check Duplicates\n",
    "- Check data type\n",
    "- Check data columns\n",
    "- Check the number of unique values of each column\n",
    "- Check statistics of data set\n",
    "- Checking for outliers"
   ]
  },
  {
   "cell_type": "code",
   "execution_count": 115,
   "metadata": {},
   "outputs": [
    {
     "data": {
      "image/png": "[encoded data removed]",
      "text/plain": [
       "<Figure size 640x480 with 1 Axes>"
      ]
     },
     "metadata": {},
     "output_type": "display_data"
    }
   ],
   "source": [
    "# Plot a histogram of a numerical variable to check its distribution\n",
    "sns.kdeplot(data=df_revenue, x=\"revenues\")\n",
    "plt.show()\n"
   ]
  },
  {
   "cell_type": "code",
   "execution_count": 116,
   "metadata": {},
   "outputs": [
    {
     "name": "stdout",
     "output_type": "stream",
     "text": [
      "Null count in each column:\n",
      "appointment_id      0\n",
      "practitioner_id     0\n",
      "patient_id          0\n",
      "clinic_id           0\n",
      "appointment_date    0\n",
      "dtype: int64\n"
     ]
    }
   ],
   "source": [
    "# Check for null values in each column\n",
    "null_count = df_patients.isnull().sum()\n",
    "print(\"Null count in each column:\")\n",
    "print(null_count)"
   ]
  },
  {
   "cell_type": "code",
   "execution_count": 117,
   "metadata": {},
   "outputs": [
    {
     "name": "stdout",
     "output_type": "stream",
     "text": [
      "Null count in each column:\n",
      "appointment_id      0\n",
      "revenues          113\n",
      "dtype: int64\n"
     ]
    }
   ],
   "source": [
    "# Check for null values in each column\n",
    "null_count = df_revenue.isnull().sum()\n",
    "print(\"Null count in each column:\")\n",
    "print(null_count)"
   ]
  },
  {
   "attachments": {},
   "cell_type": "markdown",
   "metadata": {},
   "source": [
    "The output Null count in each column: appointment_id 0 revenues 113 dtype: int64 indicates that there are 113 null values in the revenues column, while the appointment_id column has no null values. This information is useful for data cleaning and preprocessing since null values can affect the analysis and may need to be handled appropriately."
   ]
  },
  {
   "attachments": {},
   "cell_type": "markdown",
   "metadata": {},
   "source": [
    "### Handling of null value(imputation with the mean values)"
   ]
  },
  {
   "cell_type": "code",
   "execution_count": 118,
   "metadata": {},
   "outputs": [
    {
     "name": "stdout",
     "output_type": "stream",
     "text": [
      "Null count in each column:\n",
      "appointment_id    0\n",
      "revenues          0\n",
      "dtype: int64\n"
     ]
    }
   ],
   "source": [
    "# Calculate the mean value of the revenues column\n",
    "mean_revenues = df_revenue[\"revenues\"].mean()\n",
    "\n",
    "# Impute missing values with the mean value\n",
    "df_revenue[\"revenues\"].fillna(mean_revenues, inplace=True)\n",
    "\n",
    "# Counts the number of missing values in each column of the df_revenue DataFrame and displays the results.\n",
    "null_count = df_revenue.isnull().sum()\n",
    "print(\"Null count in each column:\")\n",
    "print(null_count)"
   ]
  },
  {
   "attachments": {},
   "cell_type": "markdown",
   "metadata": {},
   "source": [
    "### Checking Duplicate Values"
   ]
  },
  {
   "cell_type": "code",
   "execution_count": 119,
   "metadata": {},
   "outputs": [
    {
     "name": "stdout",
     "output_type": "stream",
     "text": [
      "No duplicate rows found.\n"
     ]
    }
   ],
   "source": [
    "# Check for duplicate rows\n",
    "duplicate_count = df_patients.duplicated().sum()\n",
    "if duplicate_count > 0:\n",
    "    print(\"Duplicate rows found:\", duplicate_count)\n",
    "else:\n",
    "    print(\"No duplicate rows found.\")"
   ]
  },
  {
   "cell_type": "code",
   "execution_count": 120,
   "metadata": {},
   "outputs": [
    {
     "name": "stdout",
     "output_type": "stream",
     "text": [
      "No duplicate rows found.\n"
     ]
    }
   ],
   "source": [
    "# Check for duplicate rows\n",
    "duplicate_count = df_revenue.duplicated().sum()\n",
    "if duplicate_count > 0:\n",
    "    print(\"Duplicate rows found:\", duplicate_count)\n",
    "else:\n",
    "    print(\"No duplicate rows found.\")"
   ]
  },
  {
   "cell_type": "code",
   "execution_count": 121,
   "metadata": {},
   "outputs": [
    {
     "name": "stdout",
     "output_type": "stream",
     "text": [
      "appointment_id      object\n",
      "practitioner_id     object\n",
      "patient_id           int64\n",
      "clinic_id            int64\n",
      "appointment_date    object\n",
      "dtype: object\n"
     ]
    }
   ],
   "source": [
    "# Check the data types of each column\n",
    "print(df_patients.dtypes)"
   ]
  },
  {
   "cell_type": "code",
   "execution_count": 122,
   "metadata": {},
   "outputs": [
    {
     "name": "stdout",
     "output_type": "stream",
     "text": [
      "appointment_id     object\n",
      "revenues          float64\n",
      "dtype: object\n"
     ]
    }
   ],
   "source": [
    "# Displays the data types of each column in the df_revenue DataFrame.\n",
    "print(df_revenue.dtypes)"
   ]
  },
  {
   "cell_type": "code",
   "execution_count": 123,
   "metadata": {},
   "outputs": [
    {
     "data": {
      "text/plain": [
       "Index(['appointment_id', 'practitioner_id', 'patient_id', 'clinic_id',\n",
       "       'appointment_date'],\n",
       "      dtype='object')"
      ]
     },
     "execution_count": 123,
     "metadata": {},
     "output_type": "execute_result"
    }
   ],
   "source": [
    "# Displays the column labels of the df_patients DataFrame.\n",
    "df_patients.columns"
   ]
  },
  {
   "cell_type": "code",
   "execution_count": 124,
   "metadata": {},
   "outputs": [
    {
     "data": {
      "text/plain": [
       "Index(['appointment_id', 'revenues'], dtype='object')"
      ]
     },
     "execution_count": 124,
     "metadata": {},
     "output_type": "execute_result"
    }
   ],
   "source": [
    "# Displays the column labels of the df_revenue DataFrame.\n",
    "df_revenue.columns"
   ]
  },
  {
   "attachments": {},
   "cell_type": "markdown",
   "metadata": {},
   "source": [
    "### Checking Unique Values"
   ]
  },
  {
   "cell_type": "code",
   "execution_count": 125,
   "metadata": {},
   "outputs": [
    {
     "name": "stdout",
     "output_type": "stream",
     "text": [
      "Unique clinics: [2 1]\n"
     ]
    }
   ],
   "source": [
    "# Check for unique values in clinic_id column\n",
    "unique_clinics = df_patients['clinic_id'].unique()\n",
    "print(\"Unique clinics:\", unique_clinics)"
   ]
  },
  {
   "attachments": {},
   "cell_type": "markdown",
   "metadata": {},
   "source": [
    "The output Unique clinics: [2 1] indicates that there are two unique values in the clinic_id column, namely 1 and 2. This information is useful for understanding the distribution of appointments across the different clinics and may be relevant to the revenue and patient acquisition analysis."
   ]
  },
  {
   "cell_type": "code",
   "execution_count": 126,
   "metadata": {},
   "outputs": [
    {
     "name": "stdout",
     "output_type": "stream",
     "text": [
      "Unique appointment: ['68339e8c-c708-4042-ba21-263838e0487b'\n",
      " '270bd629-028b-45b2-86a1-af8de97a7fd0'\n",
      " '85c0b7cf-6e50-4683-88c4-9d6ea30f6500' ...\n",
      " '651fba9c-5571-4cd5-bc0e-89a06a2c49f6'\n",
      " 'c251c42b-2c61-4fb3-92f0-37e97c90d556'\n",
      " '6b4d53b6-50c2-4fa2-920d-4812ec4f7855']\n"
     ]
    }
   ],
   "source": [
    "# Check for unique values in clinic_id column\n",
    "unique_appointments = df_revenue['appointment_id'].unique()\n",
    "print(\"Unique appointment:\", unique_appointments)"
   ]
  },
  {
   "cell_type": "code",
   "execution_count": 127,
   "metadata": {},
   "outputs": [
    {
     "name": "stdout",
     "output_type": "stream",
     "text": [
      "Unique practitioners: ['c7402157-ae44-45cc-b6a7-b348d5dbd417'\n",
      " '3ca4793d-065e-4112-b023-d1122a2a4b44'\n",
      " '2ea0ca2a-77fc-4447-b57c-62a6cb4d75a1'\n",
      " 'ed1a5b13-3dc5-4212-b989-f59258b4410e'\n",
      " '098431c3-1301-456e-9171-0026d20a3d62'\n",
      " '45baf1d2-e066-4f40-8fc5-c61c08d4af4c']\n"
     ]
    }
   ],
   "source": [
    "# Check for unique values in practitioner_id column\n",
    "unique_practitioners = df_patients['practitioner_id'].unique()\n",
    "print(\"Unique practitioners:\", unique_practitioners)"
   ]
  },
  {
   "cell_type": "code",
   "execution_count": 128,
   "metadata": {},
   "outputs": [
    {
     "name": "stdout",
     "output_type": "stream",
     "text": [
      "Unique patients: [158184 112887 141451 ...  34576  23279  67361]\n"
     ]
    }
   ],
   "source": [
    "# Check for unique values in patient_id column\n",
    "unique_patients = df_patients['patient_id'].unique()\n",
    "print(\"Unique patients:\", unique_patients)"
   ]
  },
  {
   "cell_type": "code",
   "execution_count": 129,
   "metadata": {},
   "outputs": [
    {
     "name": "stdout",
     "output_type": "stream",
     "text": [
      "Number of unique patients: 3977\n"
     ]
    }
   ],
   "source": [
    "# Calculate the number of unique patients\n",
    "unique_patients = df_patients['patient_id'].nunique()\n",
    "print('Number of unique patients:', unique_patients)"
   ]
  },
  {
   "attachments": {},
   "cell_type": "markdown",
   "metadata": {},
   "source": [
    "The outcome indicates that there are 3,977 unique patients in the dataset. This information is useful for understanding the patient population and for calculating metrics such as patient acquisition rate."
   ]
  },
  {
   "cell_type": "code",
   "execution_count": 130,
   "metadata": {},
   "outputs": [
    {
     "name": "stdout",
     "output_type": "stream",
     "text": [
      "          patient_id     clinic_id\n",
      "count   11015.000000  11015.000000\n",
      "mean    75955.592828      1.515842\n",
      "std     41118.267892      0.499772\n",
      "min     18069.000000      1.000000\n",
      "25%     41707.000000      1.000000\n",
      "50%     68319.000000      2.000000\n",
      "75%    113273.000000      2.000000\n",
      "max    160196.000000      2.000000\n"
     ]
    }
   ],
   "source": [
    "# Get basic statistics of numerical columns\n",
    "print(df_patients.describe())"
   ]
  },
  {
   "attachments": {},
   "cell_type": "markdown",
   "metadata": {},
   "source": [
    "The output shows statistics such as count, mean, standard deviation, minimum, maximum, and quartile values for the patient_id and clinic_id columns. The count value indicates that there are 11,015 patient records in the dataset. The mean value shows that the average patient ID is around 75,955. The std value indicates that the patient IDs have a standard deviation of around 41,118, which means that the data is quite spread out. The min and max values show the range of patient IDs in the dataset, while the quartile values indicate the distribution of the data."
   ]
  },
  {
   "cell_type": "code",
   "execution_count": 131,
   "metadata": {},
   "outputs": [
    {
     "name": "stdout",
     "output_type": "stream",
     "text": [
      "           revenues\n",
      "count  11015.000000\n",
      "mean     174.671997\n",
      "std      438.364038\n",
      "min        0.800000\n",
      "25%       32.960000\n",
      "50%       76.900000\n",
      "75%      177.965000\n",
      "max    15082.980000\n"
     ]
    }
   ],
   "source": [
    "# Displays the summary statistics of the df_revenue DataFrame.\n",
    "print(df_revenue.describe())"
   ]
  },
  {
   "attachments": {},
   "cell_type": "markdown",
   "metadata": {},
   "source": [
    "The df_revenue DataFrame contains revenue data and has 11015 rows. The 'revenues' column has a mean of 174.67, a standard deviation of 438.36, and a range from 0.80 to 15082.98. The lower 25% of revenue is less than or equal to 32.96, while the upper 25% of revenue is greater than or equal to 177.96. There were 113 missing values in the 'revenues' column that i have handle above."
   ]
  },
  {
   "attachments": {},
   "cell_type": "markdown",
   "metadata": {},
   "source": [
    "### Outlier Detection"
   ]
  },
  {
   "cell_type": "code",
   "execution_count": 132,
   "metadata": {},
   "outputs": [
    {
     "name": "stdout",
     "output_type": "stream",
     "text": [
      "Number of outliers: 102\n"
     ]
    }
   ],
   "source": [
    "# Calculate the mean and standard deviation of the data\n",
    "mean = np.mean(df_revenue['revenues'])\n",
    "std = np.std(df_revenue['revenues'])\n",
    "\n",
    "# Calculate the upper and lower bounds for identifying outliers\n",
    "lower_bound = mean - (3 * std)\n",
    "upper_bound = mean + (3 * std)\n",
    "\n",
    "# Identify the outliers\n",
    "outliers = df_revenue.loc[(df_revenue['revenues'] < lower_bound) | (df_revenue['revenues'] > upper_bound)]\n",
    "\n",
    "# Count the number of outliers\n",
    "num_outliers = len(outliers)\n",
    "\n",
    "print(\"Number of outliers:\", num_outliers)"
   ]
  },
  {
   "attachments": {},
   "cell_type": "markdown",
   "metadata": {},
   "source": [
    "code calculates the mean and standard deviation of the revenue data, and then uses those values to identify outliers using a rule that any data point more than 3 standard deviations away from the mean is considered an outlier.There are 102 outliers in dataset. "
   ]
  },
  {
   "cell_type": "code",
   "execution_count": 133,
   "metadata": {},
   "outputs": [
    {
     "name": "stdout",
     "output_type": "stream",
     "text": [
      "                           appointment_id  revenues\n",
      "41   d47d97df-f3d2-4329-b680-ed2ea0548960   2703.71\n",
      "84   bfe1d179-ee11-4094-b18f-39ff0e6a6aad   2035.83\n",
      "85   f81d5c51-d643-4a5c-b4be-5c7ab776f23d   2282.02\n",
      "182  87188bc5-23f4-48a8-8b77-35fe7b09c39e   2129.33\n",
      "222  23515a37-38d7-4fb3-812d-2f35256da0f8   2918.98\n"
     ]
    }
   ],
   "source": [
    "# Displays the first few rows of the outliers DataFrame for quick inspection of any potential outliers.\n",
    "print(outliers.head())"
   ]
  },
  {
   "cell_type": "code",
   "execution_count": 134,
   "metadata": {},
   "outputs": [
    {
     "data": {
      "image/png": "[encoded data removed]",
      "text/plain": [
       "<Figure size 640x480 with 1 Axes>"
      ]
     },
     "metadata": {},
     "output_type": "display_data"
    }
   ],
   "source": [
    "# Create a boxplot\n",
    "plt.boxplot(df_revenue['revenues'])\n",
    "plt.show()"
   ]
  },
  {
   "cell_type": "code",
   "execution_count": 135,
   "metadata": {},
   "outputs": [
    {
     "name": "stdout",
     "output_type": "stream",
     "text": [
      "                            appointment_id  revenues\n",
      "4680  16d914b2-bae1-4798-aaeb-71b954e0ca9c  15082.98\n",
      "3754  510aaa9e-453f-4707-8247-82c56ec5e9e1  14117.40\n",
      "4661  138cab32-1515-4918-842b-8731b8d35607  13330.70\n",
      "2299  0a5f8975-c8aa-41b2-914b-1aeb4d7e4afe  12705.50\n",
      "4885  01f268e9-e07f-448f-9236-1e99af1684f7  11664.62\n",
      "6027  be973145-033f-4841-8092-7341566cf657   9264.33\n",
      "2571  edbe6b80-2820-400a-9169-6ef4e4721794   7483.89\n",
      "8453  8bbbb5cb-f424-4995-82ae-751895638e50   6684.88\n",
      "6260  cc0f429d-59c0-4849-9a5a-667141b00b16   6205.20\n",
      "3365  96b88006-95f1-47ad-a32c-9bd7fe5fab6c   6089.28\n"
     ]
    }
   ],
   "source": [
    "# Filters the df_revenue DataFrame to identify rows where the revenue falls outside the lower and upper bounds,\n",
    "# extracts the 10 rows with the largest revenue values, and displays them in a new DataFrame called largest_outliers.\n",
    "outliers = df_revenue.loc[(df_revenue['revenues'] < lower_bound) | (df_revenue['revenues'] > upper_bound)]\n",
    "largest_outliers = outliers.nlargest(10, 'revenues')\n",
    "print(largest_outliers)"
   ]
  },
  {
   "attachments": {},
   "cell_type": "markdown",
   "metadata": {},
   "source": [
    "The output shows the appointment_id and revenues for the top 10 rows with the largest revenue values in the 'outliers' DataFrame. These rows are considered outliers because their revenue values fall outside the lower and upper bounds."
   ]
  },
  {
   "cell_type": "code",
   "execution_count": 136,
   "metadata": {},
   "outputs": [
    {
     "name": "stdout",
     "output_type": "stream",
     "text": [
      "                             appointment_id  revenues\n",
      "2652   1f9e61d6-b65d-4777-bb43-fc1716cd15a0   1490.12\n",
      "3064   66477116-89d5-41e1-acae-5f7861dd2eea   1499.47\n",
      "8566   501c8f3b-1ddc-47b7-a21e-eb550cc3a96a   1518.45\n",
      "2405   2b7e4cfc-f097-455c-bb97-677d4b3bae24   1523.04\n",
      "3387   281f870b-9604-44a2-8909-24b4f641c10d   1523.58\n",
      "6045   ada9abc4-ec9b-48a4-99ac-041892f5e044   1533.37\n",
      "2678   4eb2c6b6-ec1f-4d90-a5bc-5e872302813b   1536.07\n",
      "4305   dc08b504-e3be-4557-b434-c8f0f01b331e   1552.60\n",
      "10152  0dffb3c1-42a7-42ea-be82-129bb08093fd   1574.95\n",
      "5205   3cc56353-9f4d-4c6d-b6b8-4b6fb3ecdd4f   1583.03\n"
     ]
    }
   ],
   "source": [
    "# Filters the df_revenue DataFrame to identify rows where the revenue falls outside the lower and upper bounds,\n",
    "# extracts the 10 rows with the smallest revenue values, and displays them in a new DataFrame called smallest_outliers.\n",
    "outliers = df_revenue.loc[(df_revenue['revenues'] < lower_bound) | (df_revenue['revenues'] > upper_bound)]\n",
    "smallest_outliers = outliers.nsmallest(10, 'revenues')\n",
    "print(smallest_outliers)"
   ]
  },
  {
   "attachments": {},
   "cell_type": "markdown",
   "metadata": {},
   "source": [
    "The output shows the appointment ID and revenue of the 10 smallest outliers, sorted in ascending order by revenue. These are the appointments with the lowest revenues that fall outside of the range defined by the mean plus or minus three times the standard deviation."
   ]
  },
  {
   "attachments": {},
   "cell_type": "markdown",
   "metadata": {},
   "source": [
    "## Exploratory Data Analysis"
   ]
  },
  {
   "cell_type": "code",
   "execution_count": 137,
   "metadata": {},
   "outputs": [
    {
     "name": "stdout",
     "output_type": "stream",
     "text": [
      "Number of appointments made in 2022: 11015\n"
     ]
    }
   ],
   "source": [
    "#  Count the number of appointments made in 2022\n",
    "num_appointments_2022 = df_patients[df_patients['appointment_date'].str.contains('2022')].shape[0]\n",
    "print(\"Number of appointments made in 2022:\", num_appointments_2022)"
   ]
  },
  {
   "attachments": {},
   "cell_type": "markdown",
   "metadata": {},
   "source": [
    "### Clinic utilization"
   ]
  },
  {
   "cell_type": "code",
   "execution_count": 138,
   "metadata": {},
   "outputs": [
    {
     "name": "stdout",
     "output_type": "stream",
     "text": [
      "   clinic_id  count  utilization\n",
      "0          1   5333    48.415797\n",
      "1          2   5682    51.584203\n"
     ]
    }
   ],
   "source": [
    "# Convert the appointment_date column to a datetime object\n",
    "df_patients['appointment_date'] = pd.to_datetime(df_patients['appointment_date'])\n",
    "\n",
    "# Group the appointments by clinic and count the number of appointments at each clinic\n",
    "appointment_counts = df_patients.groupby('clinic_id').size().reset_index(name='count')\n",
    "\n",
    "# Calculate the maximum number of appointments that could have been scheduled during the time period\n",
    "max_appointments = len(df_patients['appointment_id'].unique())\n",
    "\n",
    "# Calculate clinic utilization as a percentage\n",
    "appointment_counts['utilization'] = appointment_counts['count'] / max_appointments * 100\n",
    "\n",
    "# Display the results\n",
    "print(appointment_counts)"
   ]
  },
  {
   "attachments": {},
   "cell_type": "markdown",
   "metadata": {},
   "source": [
    "There are two clinics listed: clinic 1 with 5333 appointments and a utilization rate of 48%, and clinic 2 with 5682 appointments and a utilization rate of 52%. This means that clinic 2 had a slightly higher number of appointments and a slightly higher utilization rate than clinic 1."
   ]
  },
  {
   "cell_type": "code",
   "execution_count": 139,
   "metadata": {},
   "outputs": [
    {
     "name": "stdout",
     "output_type": "stream",
     "text": [
      "Average number of appointments per practitioner: 1835.8333333333333\n"
     ]
    }
   ],
   "source": [
    "# Calculate the average number of appointments per practitioner\n",
    "appointments_per_practitioner = df_patients.groupby('practitioner_id')['appointment_id'].count()\n",
    "avg_appointments_per_practitioner = appointments_per_practitioner.mean()\n",
    "print('Average number of appointments per practitioner:', avg_appointments_per_practitioner)"
   ]
  },
  {
   "attachments": {},
   "cell_type": "markdown",
   "metadata": {},
   "source": [
    "### Appointment scheduling patterns"
   ]
  },
  {
   "cell_type": "code",
   "execution_count": 140,
   "metadata": {},
   "outputs": [
    {
     "name": "stdout",
     "output_type": "stream",
     "text": [
      "  appointment_date  count\n",
      "0       2022-01-01     31\n",
      "1       2022-01-03     16\n",
      "2       2022-01-04     19\n",
      "3       2022-01-05     15\n",
      "4       2022-01-06     26\n"
     ]
    }
   ],
   "source": [
    "# Convert the appointment_date column to a datetime object\n",
    "df_patients['appointment_date'] = pd.to_datetime(df_patients['appointment_date'])\n",
    "\n",
    "# Group the appointments by date and count the number of appointments on each date\n",
    "appointment_counts = df_patients.groupby('appointment_date').size().reset_index(name='count')\n",
    "\n",
    "# Display the first few rows of the appointment_counts DataFrame\n",
    "print(appointment_counts.head())"
   ]
  },
  {
   "attachments": {},
   "cell_type": "markdown",
   "metadata": {},
   "source": [
    "The output shows the first few rows of the appointment_counts DataFrame. Each row represents a unique appointment date, with the number of appointments that occurred on that date in the count column. For example, on January 1, 2022, there were 31 appointments, and on January 3, 2022, there were 16 appointments."
   ]
  },
  {
   "cell_type": "code",
   "execution_count": 141,
   "metadata": {},
   "outputs": [
    {
     "data": {
      "image/png": "[encoded data removed]",
      "text/plain": [
       "<Figure size 640x480 with 1 Axes>"
      ]
     },
     "metadata": {},
     "output_type": "display_data"
    }
   ],
   "source": [
    "# Plot the appointment counts over time\n",
    "plt.plot(appointment_counts['appointment_date'], appointment_counts['count'])\n",
    "plt.xlabel('Appointment Date')\n",
    "plt.ylabel('Number of Appointments')\n",
    "plt.title('Appointment Scheduling Patterns')\n",
    "plt.show()"
   ]
  },
  {
   "cell_type": "code",
   "execution_count": 142,
   "metadata": {},
   "outputs": [
    {
     "name": "stdout",
     "output_type": "stream",
     "text": [
      "Average number of appointments per practitioner per month:\n",
      "practitioner_id\n",
      "098431c3-1301-456e-9171-0026d20a3d62    171.916667\n",
      "2ea0ca2a-77fc-4447-b57c-62a6cb4d75a1    214.000000\n",
      "3ca4793d-065e-4112-b023-d1122a2a4b44    203.833333\n",
      "45baf1d2-e066-4f40-8fc5-c61c08d4af4c    140.400000\n",
      "c7402157-ae44-45cc-b6a7-b348d5dbd417    205.833333\n",
      "ed1a5b13-3dc5-4212-b989-f59258b4410e    191.500000\n",
      "Name: appointment_id, dtype: float64\n"
     ]
    }
   ],
   "source": [
    "# Convert appointment_date column to datetime type\n",
    "df_patients['appointment_date'] = pd.to_datetime(df_patients['appointment_date'])\n",
    "\n",
    "# Group by practitioner_id and appointment month, and count the number of appointments\n",
    "appointments_per_month = df_patients.groupby(['practitioner_id', pd.Grouper(key='appointment_date', freq='M')])['appointment_id'].count()\n",
    "\n",
    "# Calculate the mean number of appointments per practitioner per month\n",
    "avg_appointments_per_practitioner_per_month = appointments_per_month.groupby('practitioner_id').mean()\n",
    "\n",
    "print('Average number of appointments per practitioner per month:')\n",
    "print(avg_appointments_per_practitioner_per_month)"
   ]
  },
  {
   "attachments": {},
   "cell_type": "markdown",
   "metadata": {},
   "source": [
    "The output shows the average number of appointments per practitioner per month, calculated by grouping the appointments by practitioner_id and appointment month, and counting the number of appointments.\n",
    "\n",
    "The output is a pandas Series object where the index is the practitioner_id and the values are the average number of appointments per practitioner per month. For example, the practitioner with ID \"098431c3-1301-456e-9171-0026d20a3d62\" has an average of 171.92 appointments per month, while the practitioner with ID \"2ea0ca2a-77fc-4447-b57c-62a6cb4d75a1\" has an average of 214 appointments per month."
   ]
  },
  {
   "cell_type": "code",
   "execution_count": 143,
   "metadata": {},
   "outputs": [
    {
     "name": "stdout",
     "output_type": "stream",
     "text": [
      "12    1240\n",
      "11    1196\n",
      "10    1147\n",
      "9     1063\n",
      "8      889\n",
      "7      875\n",
      "5      829\n",
      "4      821\n",
      "3      763\n",
      "2      760\n",
      "1      717\n",
      "6      715\n",
      "Name: month, dtype: int64\n"
     ]
    }
   ],
   "source": [
    "# Convert the appointment_date column to datetime format and extract the month\n",
    "df_patients['month'] = df_patients['appointment_date'].dt.month\n",
    "# Count the number of appointments per month\n",
    "print(df_patients['month'].value_counts())\n"
   ]
  },
  {
   "cell_type": "code",
   "execution_count": 144,
   "metadata": {},
   "outputs": [
    {
     "data": {
      "image/png": "[encoded data removed]",
      "text/plain": [
       "<Figure size 640x480 with 1 Axes>"
      ]
     },
     "metadata": {},
     "output_type": "display_data"
    }
   ],
   "source": [
    "# Convert the appointment_date column to datetime format and extract the month\n",
    "df_patients['month'] = df_patients['appointment_date'].dt.month_name()\n",
    "\n",
    "# Count the number of appointments per month\n",
    "appointment_counts = df_patients['month'].value_counts()\n",
    "\n",
    "# Create a bar plot\n",
    "fig, ax = plt.subplots()\n",
    "ax.bar(appointment_counts.index, appointment_counts.values)\n",
    "\n",
    "# Set the title and axis labels\n",
    "ax.set_title('Appointment Counts by Month')\n",
    "ax.set_xlabel('Month')\n",
    "ax.set_ylabel('Number of Appointments')\n",
    "plt.xticks(rotation=45)\n",
    "\n",
    "# Show the plot\n",
    "plt.show()"
   ]
  },
  {
   "attachments": {},
   "cell_type": "markdown",
   "metadata": {},
   "source": [
    "## Rule-based or deterministic forecasting approach"
   ]
  },
  {
   "cell_type": "code",
   "execution_count": 145,
   "metadata": {},
   "outputs": [],
   "source": [
    "# Calculate the average revenue per patient in 2022\n",
    "avg_revenue_per_patient = df_revenue['revenues'].mean() / df_patients['appointment_id'].nunique()\n",
    "\n",
    "# Estimate the number of unique patients for 2023\n",
    "total_patients_2023 = df_patients['appointment_id'].nunique() * 2\n",
    "\n",
    "# Estimate the revenue for 2023\n",
    "total_revenue_2023 = avg_revenue_per_patient * total_patients_2023"
   ]
  },
  {
   "cell_type": "code",
   "execution_count": 146,
   "metadata": {},
   "outputs": [
    {
     "name": "stdout",
     "output_type": "stream",
     "text": [
      "Expected revenue in 2023: $349.34\n",
      "Expected number of unique patients in 2023: 22030\n"
     ]
    }
   ],
   "source": [
    "# Calculates the expected revenue in the year 2023 based on the predictions made by the revenue model for the months \n",
    "# of March, July, and December. The total revenue is stored in the variable total_revenue_2023. The expected number \n",
    "# of unique patients in 2023 is also calculated based on the predictions made by the patient model for the same months. \n",
    "# The total number of unique patients is stored in the variable total_patients_2023. The results are then displayed in \n",
    "# a formatted string using the `print()` function.\n",
    "print(f\"Expected revenue in 2023: ${total_revenue_2023:.2f}\")\n",
    "print(f\"Expected number of unique patients in 2023: {total_patients_2023:.0f}\")"
   ]
  },
  {
   "attachments": {},
   "cell_type": "markdown",
   "metadata": {},
   "source": [
    "The output result shows the estimated revenue and number of unique patients in the year 2023 based on the predictions made by the revenue and patient models. The expected revenue in 2023 is $349.34, and the expected number of unique patients in 2023 is 22030."
   ]
  },
  {
   "cell_type": "code",
   "execution_count": 147,
   "metadata": {},
   "outputs": [],
   "source": [
    "# Merge the dataframes on the \"month\" column\n",
    "merged_df = pd.merge(df_patients, df_revenue, on='appointment_id')"
   ]
  },
  {
   "attachments": {},
   "cell_type": "markdown",
   "metadata": {},
   "source": [
    "## Linear Regression"
   ]
  },
  {
   "cell_type": "code",
   "execution_count": 148,
   "metadata": {},
   "outputs": [
    {
     "name": "stdout",
     "output_type": "stream",
     "text": [
      "Expected revenue in 2023: $524.02\n",
      "Expected number of unique patients in 2023: 459711\n"
     ]
    }
   ],
   "source": [
    "# Reshape the data for linear regression\n",
    "revenue_2022 = df_revenue['revenues'].values.reshape(-1, 1)\n",
    "patients_2022 = df_patients['patient_id'].values.reshape(-1, 1)\n",
    "\n",
    "# Create a linear regression model for revenue\n",
    "revenue_model = LinearRegression()\n",
    "revenue_model.fit(patients_2022, revenue_2022)\n",
    "\n",
    "# Estimate the revenue for 2023\n",
    "march_patients = 0.5 * patients_2022.mean()\n",
    "july_patients = patients_2022.mean()\n",
    "december_patients = 1.5 * patients_2022.mean()\n",
    "\n",
    "# Predict revenue for March, July, and December 2023\n",
    "march_revenue = revenue_model.predict(march_patients.reshape(-1, 1))[0][0]\n",
    "july_revenue = revenue_model.predict(july_patients.reshape(-1, 1))[0][0]\n",
    "december_revenue = revenue_model.predict(december_patients.reshape(-1, 1))[0][0]\n",
    "\n",
    "# Calculate total revenue for 2023\n",
    "total_revenue_2023 = march_revenue + july_revenue + december_revenue\n",
    "\n",
    "# Estimate the number of unique patients for 2023\n",
    "march_patients_2023 = march_patients * 2\n",
    "july_patients_2023 = july_patients * 2\n",
    "december_patients_2023 = december_patients * 2\n",
    "total_patients_2023 = df_patients['patient_id'].nunique() + march_patients_2023 + july_patients_2023 + december_patients_2023\n",
    "\n",
    "# Display the expected revenue and number of unique patients for 2023\n",
    "print(f\"Expected revenue in 2023: ${total_revenue_2023:.2f}\")\n",
    "print(f\"Expected number of unique patients in 2023: {total_patients_2023:.0f}\")\n"
   ]
  },
  {
   "attachments": {},
   "cell_type": "markdown",
   "metadata": {},
   "source": [
    "The code predicts the expected revenue and number of unique patients for the year 2023 based on the data from 2022:\n",
    "\n",
    "* Expected revenue in 2023: $524.02: This means that based on the linear regression model and the predicted number of patients for March, July, and December 2023, the expected revenue for the year 2023 is $524.02.\n",
    "\n",
    "* Expected number of unique patients in 2023: 459711: This means that based on the estimated number of unique patients for 2023, the expected number of patients for the year 2023 is 459,711."
   ]
  },
  {
   "cell_type": "code",
   "execution_count": 149,
   "metadata": {},
   "outputs": [
    {
     "name": "stdout",
     "output_type": "stream",
     "text": [
      "MAE: 503.31\n"
     ]
    }
   ],
   "source": [
    "# Merge the two dataframes on the common 'patient_id' column\n",
    "merged_df = pd.merge(df_patients, df_revenue, on='appointment_id')\n",
    "\n",
    "# Group the merged dataframe by 'patient_id' and calculate the total revenue for each patient\n",
    "grouped_df = merged_df.groupby('patient_id')['revenues'].sum().reset_index()\n",
    "\n",
    "# Use 'grouped_df' as the input data for the linear regression model\n",
    "X = grouped_df[['patient_id']]\n",
    "y = grouped_df['revenues']\n",
    "\n",
    "# Split the data into training and testing sets\n",
    "X_train, X_test, y_train, y_test = train_test_split(X, y, test_size=0.2, random_state=42)\n",
    "\n",
    "# Create a new linear regression model and fit it to the training data\n",
    "revenue_model_cv = LinearRegression()\n",
    "revenue_model_cv.fit(X_train, y_train)\n",
    "\n",
    "# Make predictions on the testing data\n",
    "y_pred = revenue_model_cv.predict(X_test)\n",
    "\n",
    "# Calculate the mean absolute error (MAE)\n",
    "mae = mean_absolute_error(y_test, y_pred)\n",
    "\n",
    "# Display the MAE\n",
    "print(f\"MAE: {mae:.2f}\")\n"
   ]
  },
  {
   "attachments": {},
   "cell_type": "markdown",
   "metadata": {},
   "source": [
    "## ARIMA MODEL"
   ]
  },
  {
   "cell_type": "code",
   "execution_count": 150,
   "metadata": {},
   "outputs": [
    {
     "data": {
      "text/html": [
       "<div>\n",
       "<style scoped>\n",
       "    .dataframe tbody tr th:only-of-type {\n",
       "        vertical-align: middle;\n",
       "    }\n",
       "\n",
       "    .dataframe tbody tr th {\n",
       "        vertical-align: top;\n",
       "    }\n",
       "\n",
       "    .dataframe thead th {\n",
       "        text-align: right;\n",
       "    }\n",
       "</style>\n",
       "<table border=\"1\" class=\"dataframe\">\n",
       "  <thead>\n",
       "    <tr style=\"text-align: right;\">\n",
       "      <th></th>\n",
       "      <th>appointment_id</th>\n",
       "      <th>practitioner_id</th>\n",
       "      <th>patient_id</th>\n",
       "      <th>clinic_id</th>\n",
       "      <th>appointment_date</th>\n",
       "      <th>month</th>\n",
       "      <th>revenues</th>\n",
       "    </tr>\n",
       "  </thead>\n",
       "  <tbody>\n",
       "    <tr>\n",
       "      <th>0</th>\n",
       "      <td>0004df0d-3df6-42be-9d68-b646a42a44bb</td>\n",
       "      <td>c7402157-ae44-45cc-b6a7-b348d5dbd417</td>\n",
       "      <td>158184</td>\n",
       "      <td>2</td>\n",
       "      <td>2022-12-22</td>\n",
       "      <td>December</td>\n",
       "      <td>299.17</td>\n",
       "    </tr>\n",
       "  </tbody>\n",
       "</table>\n",
       "</div>"
      ],
      "text/plain": [
       "                         appointment_id                       practitioner_id  \\\n",
       "0  0004df0d-3df6-42be-9d68-b646a42a44bb  c7402157-ae44-45cc-b6a7-b348d5dbd417   \n",
       "\n",
       "   patient_id  clinic_id appointment_date     month  revenues  \n",
       "0      158184          2       2022-12-22  December    299.17  "
      ]
     },
     "execution_count": 150,
     "metadata": {},
     "output_type": "execute_result"
    }
   ],
   "source": [
    "# Displays the first row of the merged DataFrame `merged_df`, which is useful for quickly checking the format of the \n",
    "# merged data and confirming that the merge was successful. The `head(1)` method is used to display only the first row.\n",
    "merged_df.head(1)"
   ]
  },
  {
   "cell_type": "code",
   "execution_count": 151,
   "metadata": {},
   "outputs": [
    {
     "name": "stdout",
     "output_type": "stream",
     "text": [
      "Expected revenue in 2023: $2090.71\n",
      "Expected number of unique patients in 2023: 22030\n"
     ]
    }
   ],
   "source": [
    "# Convert the date column to datetime type\n",
    "merged_df['appointment_date'] = pd.to_datetime(merged_df['appointment_date'])\n",
    "\n",
    "# Set the date column as index\n",
    "merged_df.set_index('appointment_date', inplace=True)\n",
    "\n",
    "# Resample the data to monthly frequency and calculate the mean revenue for each month\n",
    "revenue_2022 = merged_df.resample('M')['revenues'].mean()\n",
    "\n",
    "# This code imports the statsmodels package and assigns it an alias 'sm'. \n",
    "# It allows us to access statsmodels functions and classes using the 'sm' namespace.\n",
    "\n",
    "\n",
    "# Create a time series model\n",
    "model = sm.tsa.ARIMA(revenue_2022, order=(1, 0, 0))\n",
    "\n",
    "# Fit the model\n",
    "model_fit = model.fit()\n",
    "\n",
    "# Make predictions for each month in 2023\n",
    "index_2023 = pd.date_range(start='2023-01-01', end='2023-12-01', freq='MS')\n",
    "predictions = model_fit.predict(start=index_2023[0], end=index_2023[-1], dynamic=False)\n",
    "\n",
    "# Calculate the total revenue for 2023\n",
    "total_revenue_2023 = predictions.sum()\n",
    "\n",
    "# Estimate the number of unique patients for 2023\n",
    "total_patients_2023 = merged_df['appointment_id'].nunique() * 2\n",
    "\n",
    "# This code prints the expected revenue and the expected number of unique patients for the year 2023. \n",
    "# The values are formatted to display two decimal places for revenue and no decimal places for patients.\n",
    "print(f\"Expected revenue in 2023: ${total_revenue_2023:.2f}\")\n",
    "print(f\"Expected number of unique patients in 2023: {total_patients_2023:.0f}\")"
   ]
  },
  {
   "cell_type": "code",
   "execution_count": 152,
   "metadata": {},
   "outputs": [
    {
     "name": "stdout",
     "output_type": "stream",
     "text": [
      "MAE: 18.20\n"
     ]
    }
   ],
   "source": [
    "# Resample the data to monthly frequency and calculate the mean revenue for each month\n",
    "revenue_2022 = merged_df.resample('M')['revenues'].mean()\n",
    "\n",
    "# Split the data into training and testing sets\n",
    "train_size = int(len(revenue_2022) * 0.8)\n",
    "train, test = revenue_2022[:train_size], revenue_2022[train_size:]\n",
    "\n",
    "# Create an ARIMA model with (1, 0, 0) order\n",
    "model = sm.tsa.ARIMA(train, order=(1, 0, 0))\n",
    "\n",
    "# Fit the model to the training data\n",
    "model_fit = model.fit()\n",
    "\n",
    "# Use the model to make predictions on the testing data\n",
    "predictions = model_fit.predict(start=test.index[0], end=test.index[-1], dynamic=False)\n",
    "\n",
    "# Calculate the mean absolute error (MAE)\n",
    "mae = mean_absolute_error(test, predictions)\n",
    "\n",
    "# Print the MAE\n",
    "print(f\"MAE: {mae:.2f}\")"
   ]
  },
  {
   "attachments": {},
   "cell_type": "markdown",
   "metadata": {},
   "source": [
    "The ARIMA model is used to generate predictions for each month in 2023, and the total revenue for the year is calculated as the sum of these predictions.\n",
    "\n",
    "The expected revenue for 2023 is $2090.71, displayed with two decimal places.\n",
    "\n",
    "The expected number of unique patients for 2023 is estimated as the number of unique appointment IDs in the merged dataframe (which was assumed to represent the total number of patients) multiplied by 2, since the question assumes each patient will visit the clinic twice. The expected number of unique patients for 2023 is 22030, displayed with no decimal places."
   ]
  },
  {
   "attachments": {},
   "cell_type": "markdown",
   "metadata": {},
   "source": [
    "### Comparing ARIMA and Linear Regression Model"
   ]
  },
  {
   "cell_type": "code",
   "execution_count": 153,
   "metadata": {},
   "outputs": [
    {
     "data": {
      "image/png": "[encoded data removed]",
      "text/plain": [
       "<Figure size 640x480 with 1 Axes>"
      ]
     },
     "metadata": {},
     "output_type": "display_data"
    }
   ],
   "source": [
    "# Predicted values from ARIMA model\n",
    "arima_revenue = [2090.71]\n",
    "\n",
    "# Predicted values from linear regression model\n",
    "linreg_revenue = [524.02]\n",
    "\n",
    "# Define the plot\n",
    "fig, ax1 = plt.subplots()\n",
    "\n",
    "# Plot expected revenue\n",
    "ax1.bar(['ARIMA', 'Linear Regression'], [arima_revenue[0], linreg_revenue[0]], color=['tab:blue', 'tab:red'])\n",
    "ax1.set_title('Expected Revenue in 2023')\n",
    "ax1.set_ylabel('Revenue ($)')\n",
    "ax1.set_ylim([0, 3000])\n",
    "\n",
    "# Add labels to the bars\n",
    "for i, v in enumerate([arima_revenue[0], linreg_revenue[0]]):\n",
    "    ax1.text(i, v+100, str(v), color='black', ha='center', fontsize=10)\n",
    "\n",
    "# Show plot\n",
    "plt.show()"
   ]
  },
  {
   "cell_type": "code",
   "execution_count": 154,
   "metadata": {},
   "outputs": [
    {
     "data": {
      "image/png": "[encoded data removed]",
      "text/plain": [
       "<Figure size 640x480 with 1 Axes>"
      ]
     },
     "metadata": {},
     "output_type": "display_data"
    }
   ],
   "source": [
    "import matplotlib.pyplot as plt\n",
    "\n",
    "# Predicted values from ARIMA model\n",
    "arima_patients = [22030]\n",
    "\n",
    "# Predicted values from linear regression model\n",
    "linreg_patients = [836802766]\n",
    "\n",
    "# Define the plot\n",
    "fig, ax2 = plt.subplots()\n",
    "\n",
    "# Plot expected number of patients\n",
    "ax2.bar(['ARIMA', 'Linear Regression'], [arima_patients[0], linreg_patients[0]], width=0.5, color=['tab:blue', 'tab:red'])\n",
    "ax2.set_title('Expected Number of Patients in 2023')\n",
    "ax2.set_ylabel('Number of Patients')\n",
    "ax2.ticklabel_format(style='sci', axis='y', scilimits=(0,0))\n",
    "ax2.set_ylim([0, 1000000000])\n",
    "\n",
    "# Add labels to the bars\n",
    "for i, v in enumerate([arima_patients[0], linreg_patients[0]]):\n",
    "    ax2.text(i, v+10000, str(v), color='black', ha='center', fontsize=10)\n",
    "\n",
    "# Show plot\n",
    "plt.show()\n"
   ]
  },
  {
   "attachments": {},
   "cell_type": "markdown",
   "metadata": {},
   "source": [
    "### Conclusion"
   ]
  },
  {
   "attachments": {},
   "cell_type": "markdown",
   "metadata": {},
   "source": [
    "Based on the models and their outputs, we can draw the following conclusions:\n",
    "\n",
    "* The rule-based or deterministic forecasting approach predicts a lower revenue and patient count for 2023 compared to the other two models. This is because this approach relies on fixed rules and assumptions rather than analyzing historical data to make predictions.\n",
    "\n",
    "* The linear regression model predicts a higher revenue and patient count for 2023 compared to the rule-based approach. This is because the linear regression model uses historical data to predict future trends and adjusts for any changes in the data over time.\n",
    "\n",
    "* The ARIMA model predicts the highest revenue for 2023 among the three models, suggesting that it is the most accurate model for revenue forecasting. However, it predicts the same number of unique patients as the rule-based approach, which may indicate that this model could be improved with further data analysis or parameter tuning.\n",
    "\n",
    "Overall, these models provide different insights into revenue and patient trends for the clinic in 2023. The rule-based approach provides a basic estimate, while the linear regression and ARIMA models offer more sophisticated predictions based on historical data. Ultimately, the choice of which model to use will depend on the clinic's specific needs and available data."
   ]
  }
 ],
 "metadata": {
  "kernelspec": {
   "display_name": "colt-analysis",
   "language": "python",
   "name": "python3"
  },
  "language_info": {
   "codemirror_mode": {
    "name": "ipython",
    "version": 3
   },
   "file_extension": ".py",
   "mimetype": "text/x-python",
   "name": "python",
   "nbconvert_exporter": "python",
   "pygments_lexer": "ipython3",
   "version": "3.10.9"
  },
  "orig_nbformat": 4
 },
 "nbformat": 4,
 "nbformat_minor": 2
}
